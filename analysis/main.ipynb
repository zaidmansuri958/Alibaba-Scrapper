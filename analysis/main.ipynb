{
 "cells": [
  {
   "cell_type": "code",
   "execution_count": 1,
   "metadata": {},
   "outputs": [],
   "source": [
    "import pandas as pd\n",
    "import numpy as np\n",
    "import matplotlib.pyplot as plt"
   ]
  },
  {
   "cell_type": "code",
   "execution_count": 48,
   "metadata": {},
   "outputs": [],
   "source": [
    "df=pd.read_csv(\"../cleaned_data.csv\")"
   ]
  },
  {
   "cell_type": "code",
   "execution_count": 49,
   "metadata": {},
   "outputs": [
    {
     "data": {
      "text/html": [
       "<div>\n",
       "<style scoped>\n",
       "    .dataframe tbody tr th:only-of-type {\n",
       "        vertical-align: middle;\n",
       "    }\n",
       "\n",
       "    .dataframe tbody tr th {\n",
       "        vertical-align: top;\n",
       "    }\n",
       "\n",
       "    .dataframe thead th {\n",
       "        text-align: right;\n",
       "    }\n",
       "</style>\n",
       "<table border=\"1\" class=\"dataframe\">\n",
       "  <thead>\n",
       "    <tr style=\"text-align: right;\">\n",
       "      <th></th>\n",
       "      <th>title</th>\n",
       "      <th>min_order</th>\n",
       "      <th>company</th>\n",
       "      <th>min_price</th>\n",
       "      <th>max_price</th>\n",
       "      <th>rating</th>\n",
       "      <th>num_ratings</th>\n",
       "    </tr>\n",
       "  </thead>\n",
       "  <tbody>\n",
       "    <tr>\n",
       "      <th>0</th>\n",
       "      <td>IC.INTEGRATED CIRCUITS, MICROCONTROLLERS.ELECT...</td>\n",
       "      <td>5.0</td>\n",
       "      <td>Shenzhen Yukeda Electronics Co., Ltd.</td>\n",
       "      <td>0.03</td>\n",
       "      <td>0.10</td>\n",
       "      <td>5.0</td>\n",
       "      <td>54.0</td>\n",
       "    </tr>\n",
       "    <tr>\n",
       "      <th>1</th>\n",
       "      <td>Factory Price All in One PC 23.8 Inch Core I3 ...</td>\n",
       "      <td>2.0</td>\n",
       "      <td>Shenzhen Manwei Brother Technology Co., Limited</td>\n",
       "      <td>85.00</td>\n",
       "      <td>129.00</td>\n",
       "      <td>4.9</td>\n",
       "      <td>26.0</td>\n",
       "    </tr>\n",
       "    <tr>\n",
       "      <th>2</th>\n",
       "      <td>JERTECH HG01 Wholesale Electronic Product Wire...</td>\n",
       "      <td>1.0</td>\n",
       "      <td>Guangzhou Shanglong Electronic Technology Co.,...</td>\n",
       "      <td>3.60</td>\n",
       "      <td>5.88</td>\n",
       "      <td>5.0</td>\n",
       "      <td>2.0</td>\n",
       "    </tr>\n",
       "    <tr>\n",
       "      <th>3</th>\n",
       "      <td>MysteryBox Electronics Surprise Explosion Smar...</td>\n",
       "      <td>1.0</td>\n",
       "      <td>Shenzhen Cyber Blue Electronic Co., Ltd.</td>\n",
       "      <td>8.54</td>\n",
       "      <td>8.54</td>\n",
       "      <td>4.1</td>\n",
       "      <td>189.0</td>\n",
       "    </tr>\n",
       "    <tr>\n",
       "      <th>4</th>\n",
       "      <td>Electronics 3c Lucky New Festival Gift High Qu...</td>\n",
       "      <td>1.0</td>\n",
       "      <td>Shenzhen Saiborui Technology Co., Ltd.</td>\n",
       "      <td>4.00</td>\n",
       "      <td>4.90</td>\n",
       "      <td>4.5</td>\n",
       "      <td>88.0</td>\n",
       "    </tr>\n",
       "  </tbody>\n",
       "</table>\n",
       "</div>"
      ],
      "text/plain": [
       "                                               title  min_order  \\\n",
       "0  IC.INTEGRATED CIRCUITS, MICROCONTROLLERS.ELECT...        5.0   \n",
       "1  Factory Price All in One PC 23.8 Inch Core I3 ...        2.0   \n",
       "2  JERTECH HG01 Wholesale Electronic Product Wire...        1.0   \n",
       "3  MysteryBox Electronics Surprise Explosion Smar...        1.0   \n",
       "4  Electronics 3c Lucky New Festival Gift High Qu...        1.0   \n",
       "\n",
       "                                             company  min_price  max_price  \\\n",
       "0              Shenzhen Yukeda Electronics Co., Ltd.       0.03       0.10   \n",
       "1    Shenzhen Manwei Brother Technology Co., Limited      85.00     129.00   \n",
       "2  Guangzhou Shanglong Electronic Technology Co.,...       3.60       5.88   \n",
       "3           Shenzhen Cyber Blue Electronic Co., Ltd.       8.54       8.54   \n",
       "4             Shenzhen Saiborui Technology Co., Ltd.       4.00       4.90   \n",
       "\n",
       "   rating  num_ratings  \n",
       "0     5.0         54.0  \n",
       "1     4.9         26.0  \n",
       "2     5.0          2.0  \n",
       "3     4.1        189.0  \n",
       "4     4.5         88.0  "
      ]
     },
     "execution_count": 49,
     "metadata": {},
     "output_type": "execute_result"
    }
   ],
   "source": [
    "df.head()"
   ]
  },
  {
   "cell_type": "code",
   "execution_count": 50,
   "metadata": {},
   "outputs": [
    {
     "data": {
      "text/plain": [
       "title          0\n",
       "min_order      0\n",
       "company        0\n",
       "min_price      0\n",
       "max_price      0\n",
       "rating         0\n",
       "num_ratings    0\n",
       "dtype: int64"
      ]
     },
     "execution_count": 50,
     "metadata": {},
     "output_type": "execute_result"
    }
   ],
   "source": [
    "df.isnull().sum()"
   ]
  },
  {
   "cell_type": "code",
   "execution_count": 51,
   "metadata": {},
   "outputs": [
    {
     "data": {
      "text/plain": [
       "company\n",
       "Shenzhen Yukeda Electronics Co., Ltd.                    30\n",
       "Shenzhen Hainayu Electronics Co., Ltd.                   21\n",
       "Shenzhen Xintailai Electronics Co., Ltd.                 10\n",
       "Shenzhen Winsome Electronic Technology Co., Ltd.         10\n",
       "Shenzhen Cyber Blue Electronic Co., Ltd.                  7\n",
       "                                                         ..\n",
       "Dongguan Pengji Electronics Co., Ltd.                     1\n",
       "Dongguan Win Win Tech. Ltd.                               1\n",
       "Shenzhen Ruiletong Technology Co., Ltd.                   1\n",
       "Shenzhen Huashanweihai Electronics Co., Ltd.              1\n",
       "Dongguan Pengyuan Optoelectronic Technology Co., Ltd.     1\n",
       "Name: count, Length: 265, dtype: int64"
      ]
     },
     "execution_count": 51,
     "metadata": {},
     "output_type": "execute_result"
    }
   ],
   "source": [
    "df[\"company\"].value_counts()"
   ]
  },
  {
   "cell_type": "code",
   "execution_count": 52,
   "metadata": {},
   "outputs": [
    {
     "data": {
      "text/plain": [
       "13300.0"
      ]
     },
     "execution_count": 52,
     "metadata": {},
     "output_type": "execute_result"
    }
   ],
   "source": [
    "# Most expensive product \n",
    "max(df[\"max_price\"])"
   ]
  },
  {
   "cell_type": "code",
   "execution_count": 53,
   "metadata": {},
   "outputs": [
    {
     "data": {
      "text/plain": [
       "0.01"
      ]
     },
     "execution_count": 53,
     "metadata": {},
     "output_type": "execute_result"
    }
   ],
   "source": [
    "min(df[\"max_price\"])"
   ]
  },
  {
   "cell_type": "code",
   "execution_count": 54,
   "metadata": {},
   "outputs": [
    {
     "data": {
      "text/plain": [
       "12825.0"
      ]
     },
     "execution_count": 54,
     "metadata": {},
     "output_type": "execute_result"
    }
   ],
   "source": [
    "max(df[\"min_price\"])"
   ]
  },
  {
   "cell_type": "code",
   "execution_count": 55,
   "metadata": {},
   "outputs": [
    {
     "data": {
      "text/plain": [
       "0.003"
      ]
     },
     "execution_count": 55,
     "metadata": {},
     "output_type": "execute_result"
    }
   ],
   "source": [
    "min(df[\"min_price\"])"
   ]
  },
  {
   "cell_type": "code",
   "execution_count": 56,
   "metadata": {},
   "outputs": [
    {
     "data": {
      "text/plain": [
       "<Axes: title={'center': 'Price Distribution'}, ylabel='Frequency'>"
      ]
     },
     "execution_count": 56,
     "metadata": {},
     "output_type": "execute_result"
    },
    {
     "data": {
      "image/png": "[encoded data removed]",
      "text/plain": [
       "<Figure size 640x480 with 1 Axes>"
      ]
     },
     "metadata": {},
     "output_type": "display_data"
    }
   ],
   "source": [
    "df['min_price'].plot.hist(bins=30, title='Price Distribution')\n"
   ]
  },
  {
   "cell_type": "code",
   "execution_count": 59,
   "metadata": {},
   "outputs": [
    {
     "data": {
      "text/plain": [
       "<Axes: xlabel='min_price', ylabel='rating'>"
      ]
     },
     "execution_count": 59,
     "metadata": {},
     "output_type": "execute_result"
    },
    {
     "data": {
      "image/png": "[encoded data removed]",
      "text/plain": [
       "<Figure size 640x480 with 1 Axes>"
      ]
     },
     "metadata": {},
     "output_type": "display_data"
    }
   ],
   "source": [
    "df.plot.scatter(x='min_price', y='rating')\n"
   ]
  },
  {
   "cell_type": "code",
   "execution_count": 60,
   "metadata": {},
   "outputs": [
    {
     "data": {
      "text/plain": [
       "<Axes: ylabel='Frequency'>"
      ]
     },
     "execution_count": 60,
     "metadata": {},
     "output_type": "execute_result"
    },
    {
     "data": {
      "image/png": "[encoded data removed]",
      "text/plain": [
       "<Figure size 640x480 with 1 Axes>"
      ]
     },
     "metadata": {},
     "output_type": "display_data"
    }
   ],
   "source": [
    "df['rating'].plot.hist(bins=10)\n"
   ]
  },
  {
   "cell_type": "code",
   "execution_count": null,
   "metadata": {},
   "outputs": [],
   "source": []
  }
 ],
 "metadata": {
  "kernelspec": {
   "display_name": "Python 3.12.1 64-bit",
   "language": "python",
   "name": "python3"
  },
  "language_info": {
   "codemirror_mode": {
    "name": "ipython",
    "version": 3
   },
   "file_extension": ".py",
   "mimetype": "text/x-python",
   "name": "python",
   "nbconvert_exporter": "python",
   "pygments_lexer": "ipython3",
   "version": "3.12.1"
  },
  "orig_nbformat": 4,
  "vscode": {
   "interpreter": {
    "hash": "3fcbd7240ee8f908d933dc7f71e8c42a1a91163b70ede8dcff5146d4087436c7"
   }
  }
 },
 "nbformat": 4,
 "nbformat_minor": 2
}
